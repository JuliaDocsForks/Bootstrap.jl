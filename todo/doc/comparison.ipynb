{
 "metadata": {
  "language": "Julia",
  "name": "",
  "signature": "sha256:eb0d85d96c2825533a780c029dbc9cb94a1a3198b07a7ee05efa00564fa5c9b1"
 },
 "nbformat": 3,
 "nbformat_minor": 0,
 "worksheets": [
  {
   "cells": [
    {
     "cell_type": "heading",
     "level": 1,
     "metadata": {},
     "source": [
      "Comparison with Existing Implementations"
     ]
    },
    {
     "cell_type": "markdown",
     "metadata": {},
     "source": [
      "Comparison of the `Bootstrap` julia package  with the `boot` R package, based on the 'city' dataset. For the confidence intervals, we see an agreement to 3 decimal places."
     ]
    },
    {
     "cell_type": "markdown",
     "metadata": {},
     "source": [
      "| Bootstrap | CI         | R            | julia        |\n",
      "|-----------|------------|--------------|--------------|\n",
      "| basic     | basic      | 0.932, 1.790 | 0.933, 1.790 |\n",
      "| basic     | perc       | 1.251, 2.109 | 1.250, 2.108 |\n",
      "| basic     | normal     | 1.047, 1.915 | 1.046, 1.916 |\n",
      "| basic     | bca (jack-knife) | 1.243, 2.071 | 1.242, 2.070 |"
     ]
    },
    {
     "cell_type": "code",
     "collapsed": false,
     "input": [
      "using Bootstrap\n",
      "using RDatasets\n",
      "city = dataset(\"boot\", \"city\")\n",
      "city_ratio(df::DataFrame) = mean(df[:,:X]) ./ mean(df[:,:U])\n",
      "city_ratio(city)\n",
      "\n",
      "bs1 = boot_basic(city, city_ratio, 1000000);\n",
      "\n",
      "ci_basic(bs1)\n",
      "ci_perc(bs1)\n",
      "ci_normal(bs1)\n",
      "ci_bca(bs1)"
     ],
     "language": "python",
     "metadata": {},
     "outputs": []
    },
    {
     "cell_type": "code",
     "collapsed": false,
     "input": [
      "library(boot)\n",
      "data(city)\n",
      "\n",
      "f = function(df, i) mean(df[i,\"x\"]) / mean(df[i,\"u\"])\n",
      "\n",
      "f(city)\n",
      "\n",
      "system.time(bs <- boot(city, f, 1000000))\n",
      "bs\n",
      "\n",
      "boot.ci(bs, type = c(\"norm\",\"basic\", \"perc\", \"bca\")) ## bca: defaults to type = \"reg\"\n",
      "boot:::bca.ci(bs, type = \"jack\")"
     ],
     "language": "python",
     "metadata": {},
     "outputs": []
    }
   ],
   "metadata": {}
  }
 ]
}