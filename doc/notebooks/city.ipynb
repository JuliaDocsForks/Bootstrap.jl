{
 "metadata": {
  "language": "Julia",
  "name": "",
  "signature": "sha256:9c8339258ffb2ae6eaeea37e215df581707e348113c2f08188d8cbe35f3b3bde"
 },
 "nbformat": 3,
 "nbformat_minor": 0,
 "worksheets": [
  {
   "cells": [
    {
     "cell_type": "heading",
     "level": 1,
     "metadata": {},
     "source": [
      "Analysis of the City Dataset"
     ]
    },
    {
     "cell_type": "markdown",
     "metadata": {},
     "source": [
      "We will explore some concepts of statistical bootstrapping with basic examples."
     ]
    },
    {
     "cell_type": "code",
     "collapsed": false,
     "input": [
      "using Bootstrap"
     ],
     "language": "python",
     "metadata": {},
     "outputs": [],
     "prompt_number": 3
    },
    {
     "cell_type": "heading",
     "level": 2,
     "metadata": {},
     "source": [
      "City Dataset"
     ]
    },
    {
     "cell_type": "markdown",
     "metadata": {},
     "source": [
      "Let's have a look at the 'city' dataset. This measured the population (in thousands of inhabitants) of major US cities in 1920 (column `U`) and 1930 (column `X`)."
     ]
    },
    {
     "cell_type": "code",
     "collapsed": false,
     "input": [
      "using RDatasets"
     ],
     "language": "python",
     "metadata": {},
     "outputs": [],
     "prompt_number": 4
    },
    {
     "cell_type": "code",
     "collapsed": false,
     "input": [
      "city = dataset(\"boot\", \"city\")"
     ],
     "language": "python",
     "metadata": {},
     "outputs": [
      {
       "html": [
        "<table class=\"data-frame\"><tr><th></th><th>U</th><th>X</th></tr><tr><th>1</th><td>138</td><td>143</td></tr><tr><th>2</th><td>93</td><td>104</td></tr><tr><th>3</th><td>61</td><td>69</td></tr><tr><th>4</th><td>179</td><td>260</td></tr><tr><th>5</th><td>48</td><td>75</td></tr><tr><th>6</th><td>37</td><td>63</td></tr><tr><th>7</th><td>29</td><td>50</td></tr><tr><th>8</th><td>23</td><td>48</td></tr><tr><th>9</th><td>30</td><td>111</td></tr><tr><th>10</th><td>2</td><td>50</td></tr></table>"
       ],
       "metadata": {},
       "output_type": "pyout",
       "prompt_number": 5,
       "text": [
        "10x2 DataFrames.DataFrame\n",
        "| Row | U   | X   |\n",
        "|-----|-----|-----|\n",
        "| 1   | 138 | 143 |\n",
        "| 2   | 93  | 104 |\n",
        "| 3   | 61  | 69  |\n",
        "| 4   | 179 | 260 |\n",
        "| 5   | 48  | 75  |\n",
        "| 6   | 37  | 63  |\n",
        "| 7   | 29  | 50  |\n",
        "| 8   | 23  | 48  |\n",
        "| 9   | 30  | 111 |\n",
        "| 10  | 2   | 50  |"
       ]
      }
     ],
     "prompt_number": 5
    },
    {
     "cell_type": "markdown",
     "metadata": {},
     "source": [
      "We want to estimate the relative change of the population. An obvious approach for this is to compute the ratios of the average population between the two time points."
     ]
    },
    {
     "cell_type": "code",
     "collapsed": false,
     "input": [
      "city_ratio(df::DataFrame) = mean(df[:,:X]) ./ mean(df[:,:U])"
     ],
     "language": "python",
     "metadata": {},
     "outputs": [
      {
       "metadata": {},
       "output_type": "pyout",
       "prompt_number": 16,
       "text": [
        "city_ratio (generic function with 1 method)"
       ]
      }
     ],
     "prompt_number": 16
    },
    {
     "cell_type": "markdown",
     "metadata": {},
     "source": [
      "The point estimate yields a relative change of ~1.5. We will use different bootstrap approaches to compute confidence intervals for the point estimate."
     ]
    },
    {
     "cell_type": "code",
     "collapsed": false,
     "input": [
      "city_ratio(city)"
     ],
     "language": "python",
     "metadata": {},
     "outputs": [
      {
       "metadata": {},
       "output_type": "pyout",
       "prompt_number": 17,
       "text": [
        "1.5203125"
       ]
      }
     ],
     "prompt_number": 17
    },
    {
     "cell_type": "heading",
     "level": 2,
     "metadata": {},
     "source": [
      "Bootstrap Estimates of Relative Growth"
     ]
    },
    {
     "cell_type": "markdown",
     "metadata": {},
     "source": [
      "Here, we will start with three commonly used bootstrapping techniques: The ordinary, the first-order balanced and the exact bootstrap."
     ]
    },
    {
     "cell_type": "code",
     "collapsed": false,
     "input": [
      "bs1 = boot_basic(city, city_ratio, 10000);"
     ],
     "language": "python",
     "metadata": {},
     "outputs": [],
     "prompt_number": 28
    },
    {
     "cell_type": "code",
     "collapsed": false,
     "input": [
      "bs1"
     ],
     "language": "python",
     "metadata": {},
     "outputs": [
      {
       "metadata": {},
       "output_type": "pyout",
       "prompt_number": 29,
       "text": [
        "Bootstrap Sampling\n",
        "  Method:   basic\n",
        "  Samples:  10000\n",
        "  t0:       1.5203125\n",
        "  t1:       [2.14908,1.41026,2.06434,1.51577,1.3459,1.26062,1.28035,1.45081,1.31356,1.62562  \u2026  1.40856,1.56794,1.39028,1.33209,1.65479,1.54956,1.48065,2.21023,1.66216,1.68189]\n",
        "  Data:     10x2 DataFrames.DataFrame\n",
        "| Row | U   | X   |\n",
        "|-----|-----|-----|\n",
        "| 1   | 138 | 143 |\n",
        "| 2   | 93  | 104 |\n",
        "| 3   | 61  | 69  |\n",
        "| 4   | 179 | 260 |\n",
        "| 5   | 48  | 75  |\n",
        "| 6   | 37  | 63  |\n",
        "| 7   | 29  | 50  |\n",
        "| 8   | 23  | 48  |\n",
        "| 9   | 30  | 111 |\n",
        "| 10  | 2   | 50  |\n"
       ]
      }
     ],
     "prompt_number": 29
    },
    {
     "cell_type": "code",
     "collapsed": false,
     "input": [
      "bs2 = boot_balanced(city, city_ratio, 10000);"
     ],
     "language": "python",
     "metadata": {},
     "outputs": [],
     "prompt_number": 30
    },
    {
     "cell_type": "code",
     "collapsed": false,
     "input": [
      "bs3 = boot_exact(city, city_ratio);"
     ],
     "language": "python",
     "metadata": {},
     "outputs": [],
     "prompt_number": 31
    },
    {
     "cell_type": "code",
     "collapsed": false,
     "input": [
      "bs3"
     ],
     "language": "python",
     "metadata": {},
     "outputs": [
      {
       "metadata": {},
       "output_type": "pyout",
       "prompt_number": 32,
       "text": [
        "Bootstrap Sampling\n",
        "  Method:   exact\n",
        "  Samples:  92378\n",
        "  t0:       1.5203125\n",
        "  t1:       [1.03623,1.04195,1.04068,1.08867,1.05581,1.05551,1.05193,1.05534,1.09906,1.07476  \u2026  3.85662,4.04918,4.29167,4.60638,5.03125,5.63636,6.56731,8.18421,11.6875,25.0]\n",
        "  Data:     10x2 DataFrames.DataFrame\n",
        "| Row | U   | X   |\n",
        "|-----|-----|-----|\n",
        "| 1   | 138 | 143 |\n",
        "| 2   | 93  | 104 |\n",
        "| 3   | 61  | 69  |\n",
        "| 4   | 179 | 260 |\n",
        "| 5   | 48  | 75  |\n",
        "| 6   | 37  | 63  |\n",
        "| 7   | 29  | 50  |\n",
        "| 8   | 23  | 48  |\n",
        "| 9   | 30  | 111 |\n",
        "| 10  | 2   | 50  |\n"
       ]
      }
     ],
     "prompt_number": 32
    },
    {
     "cell_type": "markdown",
     "metadata": {},
     "source": [
      "Let's compare the bias and the standard error of the bootstrapped estimates:"
     ]
    },
    {
     "cell_type": "code",
     "collapsed": false,
     "input": [
      "[bias(bs1), se(bs1)]"
     ],
     "language": "python",
     "metadata": {},
     "outputs": [
      {
       "metadata": {},
       "output_type": "pyout",
       "prompt_number": 34,
       "text": [
        "2-element Array{Float64,1}:\n",
        " 0.037683\n",
        " 0.217701"
       ]
      }
     ],
     "prompt_number": 34
    },
    {
     "cell_type": "code",
     "collapsed": false,
     "input": [
      "[bias(bs2), se(bs2)]"
     ],
     "language": "python",
     "metadata": {},
     "outputs": [
      {
       "metadata": {},
       "output_type": "pyout",
       "prompt_number": 35,
       "text": [
        "2-element Array{Float64,1}:\n",
        " 0.0397002\n",
        " 0.222238 "
       ]
      }
     ],
     "prompt_number": 35
    },
    {
     "cell_type": "code",
     "collapsed": false,
     "input": [
      "[bias(bs3), se(bs3)]"
     ],
     "language": "python",
     "metadata": {},
     "outputs": [
      {
       "metadata": {},
       "output_type": "pyout",
       "prompt_number": 36,
       "text": [
        "2-element Array{Float64,1}:\n",
        " 0.0808941\n",
        " 0.37132  "
       ]
      }
     ],
     "prompt_number": 36
    },
    {
     "cell_type": "heading",
     "level": 2,
     "metadata": {},
     "source": [
      "Confidence Intervals"
     ]
    },
    {
     "cell_type": "markdown",
     "metadata": {},
     "source": [
      "For the results from the balanced bootstrap, let's estimate confidence intervals for our point estimate for the relative gain."
     ]
    },
    {
     "cell_type": "code",
     "collapsed": false,
     "input": [
      "ci_basic(bs2)"
     ],
     "language": "python",
     "metadata": {},
     "outputs": [
      {
       "metadata": {},
       "output_type": "pyout",
       "prompt_number": 21,
       "text": [
        "Bootstrap Confidence Interval\n",
        "  Method:   basic\n",
        "  Level:    0.95\n",
        "  t0:       1.5203125\n",
        "  Interval: [0.9522557489652335,1.78308791396674]\n"
       ]
      }
     ],
     "prompt_number": 21
    },
    {
     "cell_type": "code",
     "collapsed": false,
     "input": [
      "ci_normal(bs2)"
     ],
     "language": "python",
     "metadata": {},
     "outputs": [
      {
       "metadata": {},
       "output_type": "pyout",
       "prompt_number": 22,
       "text": [
        "Bootstrap Confidence Interval\n",
        "  Method:   normal\n",
        "  Level:    0.95\n",
        "  t0:       1.5203125\n",
        "  Interval: [1.0454345560933929,1.9164534642377928]\n"
       ]
      }
     ],
     "prompt_number": 22
    },
    {
     "cell_type": "code",
     "collapsed": false,
     "input": [
      "ci_perc(bs2)"
     ],
     "language": "python",
     "metadata": {},
     "outputs": [
      {
       "metadata": {},
       "output_type": "pyout",
       "prompt_number": 23,
       "text": [
        "Bootstrap Confidence Interval\n",
        "  Method:   perc\n",
        "  Level:    0.95\n",
        "  t0:       1.5203125\n",
        "  Interval: [1.25753708603326,2.0883692510347664]\n"
       ]
      }
     ],
     "prompt_number": 23
    },
    {
     "cell_type": "code",
     "collapsed": false,
     "input": [
      "ci_bca(bs2)"
     ],
     "language": "python",
     "metadata": {},
     "outputs": [
      {
       "metadata": {},
       "output_type": "pyout",
       "prompt_number": 24,
       "text": [
        "Bootstrap Confidence Interval\n",
        "  Method:   bca\n",
        "  Level:    0.95\n",
        "  t0:       1.5203125\n",
        "  Interval: [1.2485454816329664,2.0296543382901016]\n"
       ]
      }
     ],
     "prompt_number": 24
    }
   ],
   "metadata": {}
  }
 ]
}